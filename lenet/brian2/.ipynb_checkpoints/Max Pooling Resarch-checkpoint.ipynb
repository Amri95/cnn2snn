{
 "cells": [
  {
   "cell_type": "markdown",
   "metadata": {},
   "source": [
    "初始化网络结构"
   ]
  },
  {
   "cell_type": "code",
   "execution_count": 20,
   "metadata": {
    "collapsed": false
   },
   "outputs": [],
   "source": [
    "from brian2 import *\n",
    "from brian2 import numpy as np\n",
    "from matplotlib.pyplot import *\n",
    "\n",
    "start_scope()\n",
    "\n",
    "eqs_conv1 = '''\n",
    "v : 1\n",
    "'''\n",
    "\n",
    "in_group  = PoissonGroup(4, 0 * Hz)\n",
    "inter_group = NeuronGroup(4, eqs_conv1, threshold = 'v>=1', reset = 'v=0', method = 'euler')\n",
    "out_group   = NeuronGroup(1, eqs_conv1, threshold = 'v>=1', reset = 'v=0', method = 'euler')\n",
    "\n",
    "synapses_in_inter = Synapses(in_group, inter_group, model='w:1', on_pre = 'v_post += w', method = 'linear', delay=1*ms)\n",
    "synapses_in_inter.connect(condition='i == j')\n",
    "synapses_in_inter.w = 0.5;\n",
    "\n",
    "synapses_inter_inter = Synapses(inter_group, inter_group, model='w:1', on_pre = 'v_post += w', method = 'linear', delay=0.5*ms)\n",
    "synapses_inter_inter.connect(condition='i != j')\n",
    "synapses_inter_inter.w = -1;\n",
    "\n",
    "synapses_inter_out = Synapses(inter_group, out_group, model='w:1', on_pre = 'v_post += w', method = 'linear', delay=0.5*ms)\n",
    "synapses_inter_out.connect()\n",
    "synapses_inter_out.w = 0.5;"
   ]
  },
  {
   "cell_type": "code",
   "execution_count": 28,
   "metadata": {
    "collapsed": false
   },
   "outputs": [
    {
     "name": "stdout",
     "output_type": "stream",
     "text": [
      "<spikemonitor.count: array([186, 109,  50, 186], dtype=int32)>\n",
      "<spikemonitor_1.count: array([46], dtype=int32)>\n"
     ]
    }
   ],
   "source": [
    "# 输入\n",
    "in_group.rates = [200, 100, 50, 200] * Hz\n",
    "\n",
    "# 创建monitor并运行\n",
    "in_mon = SpikeMonitor(in_group)\n",
    "out_mon = SpikeMonitor(out_group)\n",
    "out_group.v = 0\n",
    "run(1000 * ms)\n",
    "\n",
    "in_group.rates = [0, 0, 0, 0] * Hz\n",
    "run(10 * ms)\n",
    "\n",
    "# 打印运行结果\n",
    "print(in_mon.count)\n",
    "print(out_mon.count)"
   ]
  },
  {
   "cell_type": "code",
   "execution_count": null,
   "metadata": {
    "collapsed": true
   },
   "outputs": [],
   "source": []
  }
 ],
 "metadata": {
  "kernelspec": {
   "display_name": "Python 2",
   "language": "python",
   "name": "python2"
  },
  "language_info": {
   "codemirror_mode": {
    "name": "ipython",
    "version": 2
   },
   "file_extension": ".py",
   "mimetype": "text/x-python",
   "name": "python",
   "nbconvert_exporter": "python",
   "pygments_lexer": "ipython2",
   "version": "2.7.13"
  }
 },
 "nbformat": 4,
 "nbformat_minor": 2
}
